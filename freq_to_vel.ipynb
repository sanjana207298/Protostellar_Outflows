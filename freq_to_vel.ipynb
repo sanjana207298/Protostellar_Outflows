{
 "cells": [
  {
   "cell_type": "code",
   "execution_count": 1,
   "id": "19e950fb-535e-4308-a9c7-1f352e3f77ab",
   "metadata": {},
   "outputs": [],
   "source": [
    "import os\n",
    "from astropy.io import fits"
   ]
  },
  {
   "cell_type": "code",
   "execution_count": 7,
   "id": "85674bc7-a0f6-4fea-9c6a-580f9a6f4c6f",
   "metadata": {},
   "outputs": [],
   "source": [
    "def freq_to_vel(fits_file, output_name):\n",
    "    \n",
    "    SpeedOfLight = 299792458  # Speed of light in m/s\n",
    "    output_path = os.path.join(os.path.dirname(fits_file), output_name)\n",
    "    os.makedirs(output_path, exist_ok=True)\n",
    "    \n",
    "    with fits.open(fits_file) as hdul:\n",
    "                data = hdul[0].data\n",
    "                header = hdul[0].header\n",
    "            \n",
    "    crval3 = header['CRVAL3']\n",
    "    cdelt3 = header['CDELT3']\n",
    "    crpix3 = header['CRPIX3']\n",
    "    RestFreq = header['RESTFRQ']\n",
    "    V0 = (SpeedOfLight * (RestFreq - crval3) / RestFreq) / 1000  # Velocity in km/s\n",
    "    #print('V0=', V0, 'RestFreq=', RestFreq, 'crval3=', crval3)\n",
    "    \n",
    "    FreqRes = float(header['CDELT3'])\n",
    "    VelRes = -(SpeedOfLight * FreqRes / RestFreq) / 1000  # Velocity resolution in km/s\n",
    "    #print('VelRes=', VelRes)\n",
    "    \n",
    "    header['CTYPE3'] = 'VRAD'\n",
    "    header['CDELT3'] = VelRes\n",
    "    header['CRVAL3'] = V0\n",
    "    header['CUNIT3'] = 'km/s'\n",
    "    \n",
    "    updated_file = os.path.join(output_path, f'{output_name}_spectral_axis_vel.fits')\n",
    "    updated_hdu = fits.PrimaryHDU(data=data, header=header)\n",
    "    updated_hdu.writeto(updated_file, overwrite=True)"
   ]
  },
  {
   "cell_type": "code",
   "execution_count": 8,
   "id": "87f82944-2adc-41fb-99b6-3d38669a35ee",
   "metadata": {},
   "outputs": [],
   "source": [
    "fits_file = '/media/sanjana/One Touch/Toolkit/OutflowProject/ALMAData/I14498_spw27.cube.image.pbcor.fits'\n",
    "output_name = 'IRAS 14498 HCO+(4-3)'\n",
    "freq_to_vel(fits_file, output_name)\n",
    "fits_file = '/media/sanjana/One Touch/Toolkit/OutflowProject/ALMAData/I16060_spw27.cube.image.pbcor.fits'\n",
    "output_name = 'IRAS 16060 HCO+(4-3)'\n",
    "freq_to_vel(fits_file, output_name)"
   ]
  },
  {
   "cell_type": "code",
   "execution_count": null,
   "id": "fa3af8eb-a06f-4bdf-bcac-35d87f4073b6",
   "metadata": {},
   "outputs": [],
   "source": []
  }
 ],
 "metadata": {
  "kernelspec": {
   "display_name": "Python 3 (ipykernel)",
   "language": "python",
   "name": "python3"
  },
  "language_info": {
   "codemirror_mode": {
    "name": "ipython",
    "version": 3
   },
   "file_extension": ".py",
   "mimetype": "text/x-python",
   "name": "python",
   "nbconvert_exporter": "python",
   "pygments_lexer": "ipython3",
   "version": "3.12.2"
  }
 },
 "nbformat": 4,
 "nbformat_minor": 5
}
