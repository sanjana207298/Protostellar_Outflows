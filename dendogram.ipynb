{
 "cells": [
  {
   "cell_type": "code",
   "execution_count": 1,
   "id": "eb8b5755-758f-4d2b-b1d9-3c6d5a12d607",
   "metadata": {},
   "outputs": [],
   "source": [
    "from astropy.io import fits\n",
    "from astropy import units as u\n",
    "from astropy.wcs import WCS\n",
    "from astropy.coordinates import SkyCoord\n",
    "\n",
    "import matplotlib.pyplot as plt\n",
    "from matplotlib.patches import Ellipse\n",
    "\n",
    "from astrodendro import Dendrogram, pp_catalog, ppv_catalog\n",
    "from astrodendro.analysis import PPStatistic, PPVStatistic\n",
    "from astrodendro.scatter import Scatter\n",
    "\n",
    "import numpy as np\n",
    "import scipy.ndimage as nd\n",
    "import fileinput\n",
    "import os\n",
    "from os.path import expanduser"
   ]
  },
  {
   "cell_type": "code",
   "execution_count": null,
   "id": "1fe4654a-0881-4959-83d8-5020f203005c",
   "metadata": {},
   "outputs": [],
   "source": [
    "'''\n",
    "# Expand the tilde to the full path\n",
    "file_path = expanduser('~/miniconda3/envs/aplpy/lib/python3.9/site-packages/astrodendro/analysis.py')\n",
    "\n",
    "# Ensure the file exists before attempting to modify it\n",
    "if not os.path.exists(file_path):\n",
    "    raise FileNotFoundError(f\"The file {file_path} does not exist.\")\n",
    "\n",
    "# Replace all instances of np.int with int\n",
    "with fileinput.FileInput(file_path, inplace=True, backup='.bak') as file:\n",
    "    for line in file:\n",
    "        print(line.replace('np.asscalar', 'np.ndarray.item'), end='')\n",
    "'''"
   ]
  },
  {
   "cell_type": "code",
   "execution_count": 3,
   "id": "5b829a44-7f7d-483e-96f1-63b8a8f724ef",
   "metadata": {},
   "outputs": [],
   "source": [
    "# Constants\n",
    "c = 2.99792458e+10  # Speed of light in cm/s\n",
    "h = 6.626176e-27    # Planck constant in cm^2 g/s\n",
    "kb = 1.380658e-16   # Boltzmann constant in erg/K\n",
    "pc2cm = 3.0857e+18  # Parsec in cm\n",
    "OneJy = 1.0e-23     # Jansky in erg/s/cm^2/Hz\n",
    "Msun = 2.0e+33      # Solar mass in gm\n",
    "\n",
    "def planck(nu, Temp):\n",
    "    wav = c / nu\n",
    "    aa = 2.0 * h * c ** 2\n",
    "    bb = h * c / (wav * kb * Temp)\n",
    "    intensity = aa / ((wav ** 5) * (np.exp(bb) - 1.0))\n",
    "    intensity = wav * wav * intensity / c\n",
    "    return intensity\n",
    "\n",
    "def CalculateMassFromIntensity(Tdust, nu, Fnu, dist, beta, eta):\n",
    "    dist = dist * 1000. * pc2cm\n",
    "    kappa = 10 * ((nu / 1.2e+12) ** beta)  # beta = Spectral index\n",
    "    Fnu = Fnu * OneJy\n",
    "    Bnu = planck(nu, Tdust)\n",
    "    M = eta * Fnu * (dist ** 2) / (kappa * Bnu)\n",
    "    return M / Msun\n",
    "\n",
    "def process_fits_file(fits_file, distance):\n",
    "    # Parameters\n",
    "    Tdust = 20.0\n",
    "    Gas2Dust = 100.0\n",
    "    beta = 1.5\n",
    "    rms = 0.05 # from statistics\n",
    "    bg = 0 # median or mean value\n",
    "    min_val = bg + rms    \n",
    "    min_delt = rms * 5 # 5 sigma\n",
    "    min_npix = 9 # nyquist\n",
    "    FoV = 25  # in arcsec # take from ds9 by drawing a region, or from header naxis*cdelt\n",
    "    with fits.open(fits_file) as hdul:\n",
    "            data = hdul[0].data\n",
    "            header = hdul[0].header\n",
    "    Obsfreq = header['RESTFRQ'] # in Hz\n",
    "\n",
    "    OutputExtn = os.path.splitext(os.path.basename(fits_file))[0]\n",
    "\n",
    "    # Open the FITS file\n",
    "    hdu = fits.open(fits_file)[0]\n",
    "    w = WCS(fits_file).celestial\n",
    "\n",
    "    xlen = np.shape(hdu.data)[2]\n",
    "    ylen = np.shape(hdu.data)[3]\n",
    "\n",
    "    data = hdu.data[0, 0, :]\n",
    "\n",
    "    PixSize = w.wcs.cdelt[1] * 3600.0\n",
    "    FoVPix = int(FoV / (2 * PixSize))\n",
    "    bmaj = float(hdu.header['BMAJ']) * 3600.0\n",
    "    bmin = float(hdu.header['BMIN']) * 3600.0\n",
    "\n",
    "    metadata = {\n",
    "        'data_unit': u.Jy / u.beam,\n",
    "        'spatial_scale': PixSize * u.arcsec,\n",
    "        'beam_major': bmaj * u.arcsec,\n",
    "        'beam_minor': bmin * u.arcsec,\n",
    "        'wcs': w\n",
    "    }\n",
    "\n",
    "    # Compute the dendrogram\n",
    "    d = Dendrogram.compute(data, min_value=min_val, min_delta=min_delt, min_npix=min_npix)\n",
    "    print(f'Number of identified Sources: {len(d.leaves)}')\n",
    "\n",
    "    # Ensure all directories for the output files exist\n",
    "    clump_details_dir = os.path.dirname(f'ClumpDetails_{OutputExtn}.cat')\n",
    "    ds9_dir = os.path.dirname(f'ds9_{OutputExtn}.reg')\n",
    "    casa_dir = os.path.dirname(f'Casa_{OutputExtn}.reg')\n",
    "\n",
    "    for directory in set([clump_details_dir, ds9_dir, casa_dir]):\n",
    "        if directory and not os.path.exists(directory):\n",
    "            os.makedirs(directory)\n",
    "\n",
    "    # Open output files\n",
    "    with open(f'ClumpDetails_{OutputExtn}.cat', 'w') as fo, \\\n",
    "         open(f'ds9_{OutputExtn}.reg', 'w') as fo1, \\\n",
    "         open(f'Casa_{OutputExtn}.reg', 'w') as fo2:\n",
    "        \n",
    "        fo.write(f'# Distance: {distance:.1f} kpc; Min Good Value: {min_val:.4f}; Min Delta: {min_delt:.4f}; Min No. of Pix: {min_npix}\\n')\n",
    "        fo.write(f'# Tdust = {Tdust:.1f} K; Gas-to-dust = {Gas2Dust:.1f}\\n')\n",
    "        fo.write('#    RA          Dec      FWHMx(\")  FWHMy(\")    PA       R(\") Area(sq-\")   Flux           MSun\\n')\n",
    "        fo.write('#  (deg)        (deg)                                                      (Jy)     beta=1.5  beta=2.0\\n')\n",
    "        \n",
    "        fo1.write('global color=green dashlist=8 3 width=1 font=\"helvetica 10 normal roman\" select=1 highlite=1 dash=0 fixed=0 edit=1 move=1 delete=1 include=1 source=1\\nfk5\\n')\n",
    "        fo2.write('#CRTFv0 CASA Region Text Format version 0\\n')\n",
    "\n",
    "        index = 0\n",
    "        for leaf in d.leaves:\n",
    "            s = PPStatistic(leaf, metadata=metadata)\n",
    "            x = s.x_cen\n",
    "            y = s.y_cen\n",
    "            FWHMx = 2. * s.major_sigma\n",
    "            FWHMy = 2. * s.minor_sigma\n",
    "        \n",
    "            R = 2. * s.radius\n",
    "            Area = s.area_exact\n",
    "            Flux = s.flux  # Ensure this is in Jy from your metadata definition\n",
    "            PA = s.position_angle\n",
    "\n",
    "            ra, dec = x, y\n",
    "            xcen, ycen = w.all_world2pix(ra, dec, 1)\n",
    "            Rpix = R / PixSize\n",
    "            AreaPix = Area / (PixSize * PixSize)\n",
    "\n",
    "            if ((xcen >= (xlen/2. - FoVPix)) and (xcen <= (xlen/2. + FoVPix)) and\n",
    "                (ycen >= (ylen/2. - FoVPix)) and (ycen <= (ylen/2. + FoVPix))):\n",
    "                \n",
    "                # Ensure Flux is in Jy\n",
    "                Flux_Jy = Flux.to(u.Jy).value\n",
    "                \n",
    "                M20_1 = CalculateMassFromIntensity(Tdust, Obsfreq, Flux_Jy, distance, 1.5, Gas2Dust)\n",
    "                M20_2 = CalculateMassFromIntensity(Tdust, Obsfreq, Flux_Jy, distance, 2.0, Gas2Dust)\n",
    "        \n",
    "                fo.write('%11.6f %11.6f  %8.3f %8.3f %8.2f  %8.3f %8.3f  %8.4e  %6.2f    %6.2f\\n'% \\\n",
    "                        (ra, dec, FWHMx, FWHMy, PA.value,  R, Area, Flux_Jy, M20_1, M20_2))\n",
    "                fo1.write('ellipse( %11.6f, %11.6f, %8.3f\", %8.3f\", %8.3f)\\n'%(ra, dec, FWHMx, FWHMy, PA.value))\n",
    "                fo2.write('ellipse [[%12.7fdeg, %12.7fdeg], [%8.4farcsec, %8.4farcsec], %8.3fdeg] coord=ICRS, corr=[I], linewidth=1, linestyle=-, symsize=1, symthick=1, color=magenta, font=Ubuntu, fontsize=11, fontstyle=normal, usetex=false\\n'%\\\n",
    "                         (ra, dec, FWHMx, FWHMy, PA.value))\n",
    "\n",
    "                index = index + 1\n",
    "\n",
    "    print(f'Finally selected Sources: {index}')"
   ]
  },
  {
   "cell_type": "code",
   "execution_count": 4,
   "id": "808d5887-d2f4-40be-b9a3-0528d88bb7ca",
   "metadata": {},
   "outputs": [
    {
     "name": "stdout",
     "output_type": "stream",
     "text": [
      "Number of identified Sources: 1\n",
      "Finally selected Sources: 1\n"
     ]
    },
    {
     "name": "stderr",
     "output_type": "stream",
     "text": [
      "WARNING: FITSFixedWarning: 'datfix' made the change 'Set MJD-OBS to 58257.235425 from DATE-OBS'. [astropy.wcs.wcs]\n",
      "WARNING: FITSFixedWarning: 'obsfix' made the change 'Set OBSGEO-L to   -67.754929 from OBSGEO-[XYZ].\n",
      "Set OBSGEO-B to   -23.022886 from OBSGEO-[XYZ].\n",
      "Set OBSGEO-H to     5053.796 from OBSGEO-[XYZ]'. [astropy.wcs.wcs]\n"
     ]
    }
   ],
   "source": [
    "fits_file = '/media/sanjana/One Touch/Toolkit/OutflowProject/ALMAData/I14498_Final_mfs.image.pbcor.fits'\n",
    "distance = 3.2\n",
    "process_fits_file(fits_file, distance)"
   ]
  },
  {
   "cell_type": "code",
   "execution_count": 5,
   "id": "93f9519e-d6cf-4eda-9ca0-02b25191acff",
   "metadata": {},
   "outputs": [
    {
     "name": "stdout",
     "output_type": "stream",
     "text": [
      "Number of identified Sources: 2\n",
      "Finally selected Sources: 2\n"
     ]
    },
    {
     "name": "stderr",
     "output_type": "stream",
     "text": [
      "WARNING: FITSFixedWarning: 'datfix' made the change 'Set MJD-OBS to 58258.318412 from DATE-OBS'. [astropy.wcs.wcs]\n",
      "WARNING: FITSFixedWarning: 'obsfix' made the change 'Set OBSGEO-L to   -67.754929 from OBSGEO-[XYZ].\n",
      "Set OBSGEO-B to   -23.022886 from OBSGEO-[XYZ].\n",
      "Set OBSGEO-H to     5053.796 from OBSGEO-[XYZ]'. [astropy.wcs.wcs]\n"
     ]
    }
   ],
   "source": [
    "fits_file = '/media/sanjana/One Touch/Toolkit/OutflowProject/ALMAData/I16060_Final_mfs.image.pbcor.fits'\n",
    "distance = 5.2\n",
    "process_fits_file(fits_file, distance)"
   ]
  },
  {
   "cell_type": "code",
   "execution_count": null,
   "id": "afe8d875-4a83-4afe-ab89-9287f09744cc",
   "metadata": {},
   "outputs": [],
   "source": []
  }
 ],
 "metadata": {
  "kernelspec": {
   "display_name": "Python 3 (ipykernel)",
   "language": "python",
   "name": "python3"
  },
  "language_info": {
   "codemirror_mode": {
    "name": "ipython",
    "version": 3
   },
   "file_extension": ".py",
   "mimetype": "text/x-python",
   "name": "python",
   "nbconvert_exporter": "python",
   "pygments_lexer": "ipython3",
   "version": "3.12.2"
  }
 },
 "nbformat": 4,
 "nbformat_minor": 5
}
